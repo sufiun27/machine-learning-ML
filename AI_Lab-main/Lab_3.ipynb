{
  "nbformat": 4,
  "nbformat_minor": 0,
  "metadata": {
    "colab": {
      "name": "Lab Session 3.ipynb",
      "provenance": [],
      "collapsed_sections": [],
      "include_colab_link": true
    },
    "kernelspec": {
      "name": "python3",
      "display_name": "Python 3"
    }
  },
  "cells": [
    {
      "cell_type": "markdown",
      "metadata": {
        "id": "view-in-github",
        "colab_type": "text"
      },
      "source": [
        "<a href=\"https://colab.research.google.com/github/AbuSufiun72/AI_Lab/blob/main/Lab_3.ipynb\" target=\"_parent\"><img src=\"https://colab.research.google.com/assets/colab-badge.svg\" alt=\"Open In Colab\"/></a>"
      ]
    },
    {
      "cell_type": "code",
      "metadata": {
        "id": "put0KDaH6qOk",
        "outputId": "615f6600-909e-4c09-9118-483cb7088390",
        "colab": {
          "base_uri": "https://localhost:8080/",
          "height": 50
        }
      },
      "source": [
        "#built-in functions\n",
        "\n",
        "print(\"Hi, I am semi-colon.?\")\n",
        "print(\"Let me know. \")\n",
        "s=input()\n",
        "\n",
        "a=10\n",
        "b=21\n",
        "print(max(a,b))\n",
        "print(min(a,b))\n",
        "\n",
        "c=10.4\n",
        "d=int(c)\n",
        "print(d)\n",
        "\n",
        "e=\"python\"\n",
        "print(type(e))"
      ],
      "execution_count": null,
      "outputs": [
        {
          "output_type": "stream",
          "text": [
            "Hi, I am semi-colon.?\n",
            "Let me know. \n"
          ],
          "name": "stdout"
        }
      ]
    },
    {
      "cell_type": "code",
      "metadata": {
        "id": "rfnylNHAAXPm"
      },
      "source": [
        "#user defined function\n",
        "\n",
        "def add(a, b):\n",
        "    c=a+b\n",
        "    return c\n",
        "\n",
        "a=int(input(\"Enter a number: \"))\n",
        "b=int(input(\"Enter a number: \"))\n",
        "d=add(a,b)\n",
        "print(\"The sum is\", d)"
      ],
      "execution_count": null,
      "outputs": []
    },
    {
      "cell_type": "code",
      "metadata": {
        "id": "20olaGqmBX7J"
      },
      "source": [
        "#function with multiple parameters\n",
        "\n",
        "def divisor(x,y,m):\n",
        "    if x%m==0 and y%m==0:\n",
        "        print(\"%d & %d are divisible by %d\"%(x,y,m))\n",
        "    elif x%m==0:\n",
        "        print(\"only %d is divisible by %d\"%(x,m))\n",
        "    elif y%m==0:\n",
        "        print(\"only %d is divisible by %d\"%(y,m))\n",
        "    else:\n",
        "        print(\"none of %d & %d is divisible by %d\"%(x,y,d))\n",
        "\n",
        "divisor(10,20,5)\n",
        "divisor(12,20,5)\n",
        "divisor(10,22,5)\n",
        "divisor(2,5,3)"
      ],
      "execution_count": null,
      "outputs": []
    },
    {
      "cell_type": "code",
      "metadata": {
        "id": "P3YgiignDl9E"
      },
      "source": [
        "#function without parameter\n",
        "\n",
        "def summation():\n",
        "    a=3+8\n",
        "    return a\n",
        "\n",
        "b=summation()\n",
        "print(b)"
      ],
      "execution_count": null,
      "outputs": []
    },
    {
      "cell_type": "code",
      "metadata": {
        "id": "x-A4XKYhM_t8"
      },
      "source": [
        "#function with default parameter value\n",
        "\n",
        "def check(a=0):\n",
        "    if a==0:\n",
        "        print(\"Zero\")\n",
        "    elif a>0:\n",
        "        print(\"Positive\")\n",
        "    else:\n",
        "        print(\"Negative\")\n",
        "\n",
        "check()     #without parameter\n",
        "check(-4)   #with parameter"
      ],
      "execution_count": null,
      "outputs": []
    },
    {
      "cell_type": "code",
      "metadata": {
        "id": "Mru9JQ-tNkw3"
      },
      "source": [
        "#local scope\n",
        "\n",
        "def local_scope():\n",
        "    x=7\n",
        "    print(x)\n",
        "\n",
        "local_scope()\n",
        "print(x)"
      ],
      "execution_count": null,
      "outputs": []
    },
    {
      "cell_type": "code",
      "metadata": {
        "id": "EyROFGhnQJVf"
      },
      "source": [
        "#local scope\n",
        "\n",
        "def local_scope():\n",
        "    x=7\n",
        "    return x\n",
        "\n",
        "a=local_scope()\n",
        "print(a)\n",
        "print(x)"
      ],
      "execution_count": null,
      "outputs": []
    },
    {
      "cell_type": "code",
      "metadata": {
        "id": "r9JthIe-RbSe",
        "outputId": "4b71e17d-029f-4f17-b98a-9346ac774ed5",
        "colab": {
          "base_uri": "https://localhost:8080/",
          "height": 52
        }
      },
      "source": [
        "#global scope\n",
        "\n",
        "x=10\n",
        "\n",
        "def global_scope():\n",
        "    print(x)\n",
        "\n",
        "print(x)\n",
        "global_scope()"
      ],
      "execution_count": null,
      "outputs": [
        {
          "output_type": "stream",
          "text": [
            "10\n",
            "10\n"
          ],
          "name": "stdout"
        }
      ]
    },
    {
      "cell_type": "code",
      "metadata": {
        "id": "go6zuWDAP_Ck",
        "outputId": "d3e760d8-276d-41f9-9cba-aac0a4a69465",
        "colab": {
          "base_uri": "https://localhost:8080/",
          "height": 34
        }
      },
      "source": [
        "#global scope\n",
        "\n",
        "def global_scope():\n",
        "    global x\n",
        "    x=10\n",
        "\n",
        "global_scope()\n",
        "print(x)"
      ],
      "execution_count": null,
      "outputs": [
        {
          "output_type": "stream",
          "text": [
            "10\n"
          ],
          "name": "stdout"
        }
      ]
    },
    {
      "cell_type": "code",
      "metadata": {
        "id": "On5yNCjtik45",
        "outputId": "85a9f90d-28dd-47f9-96c0-e036576dee63",
        "colab": {
          "base_uri": "https://localhost:8080/",
          "height": 121
        }
      },
      "source": [
        "#python standard library\n",
        "#csv module\n",
        "\n",
        "import csv\n",
        "\n",
        "with open('test.csv', newline='') as csvfile:\n",
        "    tmp = csv.reader(csvfile, delimiter=' ', quotechar='|')\n",
        "    for row in tmp:\n",
        "        print(', '.join(row))"
      ],
      "execution_count": null,
      "outputs": [
        {
          "output_type": "stream",
          "text": [
            "Name,Popularity(out, of, 10)\n",
            "Python,9\n",
            "C,6\n",
            "C++,8\n",
            "Java,7\n",
            "Prolog,3\n"
          ],
          "name": "stdout"
        }
      ]
    },
    {
      "cell_type": "code",
      "metadata": {
        "id": "ZZTX9sWwWBrK",
        "outputId": "541aebcb-01ce-4c2d-f32c-4f2a4283a69b",
        "colab": {
          "base_uri": "https://localhost:8080/",
          "height": 121
        }
      },
      "source": [
        "#python standard library\n",
        "#math module\n",
        "\n",
        "import math\n",
        "\n",
        "print(math.pi)          #value of pi\n",
        "\n",
        "x=9.2\n",
        "print(math.ceil(x))     #round to the smallest integer not less than x\n",
        "print(math.floor(x))    #rount to the largest integer not greater than x\n",
        "\n",
        "print(math.sin(78))     #trigonometric sine of x (x in radians)\n",
        "\n",
        "print(math.pow(2,3))    #2 to the power 3\n",
        "\n",
        "print(math.sqrt(16))    #square root of 16"
      ],
      "execution_count": null,
      "outputs": [
        {
          "output_type": "stream",
          "text": [
            "3.141592653589793\n",
            "10\n",
            "9\n",
            "0.5139784559875352\n",
            "8.0\n",
            "4.0\n"
          ],
          "name": "stdout"
        }
      ]
    }
  ]
}